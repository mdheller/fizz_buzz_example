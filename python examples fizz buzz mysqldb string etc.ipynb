{
 "cells": [
  {
   "cell_type": "code",
   "execution_count": 2,
   "metadata": {
    "collapsed": true
   },
   "outputs": [],
   "source": [
    "#import required libraries\n",
    "import sklearn \n",
    "import re\n",
    "import string\n",
    "import pandas as pd\n",
    "import numpy as np\n",
    "from fuzzywuzzy import fuzz, process\n",
    "from simhash import Simhash, SimhashIndex #, fingerprint, hamming_distance# \n",
    "from nltk import metrics, stem, tokenize\n",
    "from nltk.metrics import distance\n",
    "from nltk.stem.snowball import SnowballStemmer, stopwords\n",
    "from nltk.util import ngrams\n",
    "from gensim import corpora, models, similarities\n",
    "from pprint import pprint"
   ]
  },
  {
   "cell_type": "code",
   "execution_count": 96,
   "metadata": {},
   "outputs": [],
   "source": [
    "my_list = [1,2,3,4,5,6,7,8]\n",
    "greater_than_five = False\n",
    "for elem in my_list: \n",
    "    if elem > 5:\n",
    "        greater_than_five = True \n",
    "        break"
   ]
  },
  {
   "cell_type": "code",
   "execution_count": null,
   "metadata": {
    "collapsed": true
   },
   "outputs": [],
   "source": [
    "#connect to db example\n",
    "#!/usr/bin/python\n",
    "import MySQLdb\n",
    "# Open database connection\n",
    "db = MySQLdb.connect(\"localhost\",\"testuser\",\"test123\",\"TESTDB\" )\n",
    "# prepare a cursor object using cursor() method\n",
    "cursor = db.cursor()\n",
    "# execute SQL query using execute() method.\n",
    "cursor.execute(\"SELECT VERSION()\")\n",
    "# Fetch a single row using fetchone() method.\n",
    "data = cursor.fetchone()\n",
    "print \"Database version : %s \" % data\n",
    "# disconnect from server\n",
    "db.close()"
   ]
  },
  {
   "cell_type": "code",
   "execution_count": null,
   "metadata": {
    "collapsed": true
   },
   "outputs": [],
   "source": [
    "#Create table example\n",
    "#!/usr/bin/python\n",
    "import MySQLdb\n",
    "# Open database connection\n",
    "db = MySQLdb.connect(\"localhost\",\"testuser\",\"test123\",\"TESTDB\" )\n",
    "\n",
    "# prepare a cursor object using cursor() method\n",
    "cursor = db.cursor()\n",
    "\n",
    "# Drop table if it already exist using execute() method.\n",
    "cursor.execute(\"DROP TABLE IF EXISTS EMPLOYEE\")\n",
    "\n",
    "# Create table as per requirement\n",
    "sql = \"\"\"CREATE TABLE EMPLOYEE (\n",
    "         FIRST_NAME  CHAR(20) NOT NULL,\n",
    "         LAST_NAME  CHAR(20),\n",
    "         AGE INT,  \n",
    "         SEX CHAR(1),\n",
    "         INCOME FLOAT )\"\"\"\n",
    "\n",
    "cursor.execute(sql)\n",
    "\n",
    "# disconnect from server\n",
    "db.close()"
   ]
  },
  {
   "cell_type": "code",
   "execution_count": null,
   "metadata": {
    "collapsed": true
   },
   "outputs": [],
   "source": [
    "#some skeleton code\n",
    "if expression : \n",
    "   suite\n",
    "elif expression : \n",
    "   suite \n",
    "else : \n",
    "   suite"
   ]
  },
  {
   "cell_type": "code",
   "execution_count": null,
   "metadata": {
    "collapsed": true
   },
   "outputs": [],
   "source": [
    "#!/usr/bin/python\n",
    "\n",
    "str = 'Hello World!'\n",
    "print str          # Prints complete string\n",
    "print str[0]       # Prints first character of the string\n",
    "print str[2:5]     # Prints characters starting from 3rd to 5th\n",
    "print str[2:]      # Prints string starting from 3rd character\n",
    "print str * 2      # Prints string two times\n",
    "print str + \"TEST\" # Prints concatenated string"
   ]
  },
  {
   "cell_type": "code",
   "execution_count": 29,
   "metadata": {},
   "outputs": [
    {
     "name": "stdout",
     "output_type": "stream",
     "text": [
      "My name is Zara and weight is 21 kg!\n"
     ]
    }
   ],
   "source": [
    "#string formatting\n",
    "#!/usr/bin/python\n",
    "\n",
    "print(\"My name is %s and weight is %d kg!\" % ('Zara', 21))\n",
    "''''\n",
    "%c \tcharacter\n",
    "%s \tstring conversion via str() prior to formatting\n",
    "%i \tsigned decimal integer\n",
    "%d \tsigned decimal integer\n",
    "%u \tunsigned decimal integer\n",
    "%o \toctal integer\n",
    "%x \thexadecimal integer (lowercase letters)\n",
    "%X \thexadecimal integer (UPPERcase letters)\n",
    "%e \texponential notation (with lowercase 'e')\n",
    "%E \texponential notation (with UPPERcase 'E')\n",
    "%f \tfloating point real number\n",
    "%g \tthe shorter of %f and %e\n",
    "%G \tthe shorter of %f and %E\\*\n",
    "''''"
   ]
  },
  {
   "cell_type": "code",
   "execution_count": 3,
   "metadata": {},
   "outputs": [
    {
     "name": "stdout",
     "output_type": "stream",
     "text": [
      "1\n",
      "2\n",
      "3\n",
      "4\n",
      "5\n",
      "['physics', 'chemistry', 1997, 2000]\n",
      "After deleting value at index 2 : \n",
      "['physics', 'chemistry', 2000]\n"
     ]
    }
   ],
   "source": [
    "#BASIC LIST STUFF\n",
    "#!/usr/bin/python\n",
    "list1 = ['physics', 'chemistry', 1997, 2000];\n",
    "list2 = [1, 2, 3, 4, 5 ];\n",
    "list3 = [\"a\", \"b\", \"c\", \"d\"];\n",
    "for x in list2: \n",
    "    print(x),\n",
    "#BASIC LIST OPERATIONS\n",
    "len([1, 2, 3])\n",
    "[1, 2, 3] + [4, 5, 6]\n",
    "#!/usr/bin/python\n",
    "\n",
    "list1 = ['physics', 'chemistry', 1997, 2000];\n",
    "print(list1)\n",
    "del list1[2];\n",
    "print(\"After deleting value at index 2 : \")\n",
    "print(list1)\n",
    "\n",
    "L = ['spam', 'Spam', 'SPAM!']\n",
    "#1 \tlist.append(obj)\n",
    "#Appends object obj to list\n",
    "#2 \tlist.count(obj)\n",
    "#Returns count of how many times obj occurs in list\n",
    "#3 \tlist.extend(seq)\n",
    "#Appends the contents of seq to list\n",
    "#4 \tlist.index(obj)\n",
    "#Returns the lowest index in list that obj appears\n",
    "#5 \tlist.insert(index, obj)\n",
    "#Inserts object obj into list at offset index\n",
    "#6 \tlist.pop(obj=list[-1])\n",
    "#\n",
    "#Removes and returns last object or obj from list\n",
    "#7 \tlist.remove(obj)\n",
    "#\n",
    "#Removes object obj from list\n",
    "#8 \tlist.reverse()\n",
    "#\n",
    "#Reverses objects of list in place\n",
    "#9 \tlist.sort([func])\n",
    "#\n",
    "#Sorts objects of list, use compare func if given"
   ]
  },
  {
   "cell_type": "code",
   "execution_count": 5,
   "metadata": {},
   "outputs": [
    {
     "name": "stdout",
     "output_type": "stream",
     "text": [
      "list1[0]:  physics\n",
      "list2[1:5]:  [2, 3, 4, 5]\n"
     ]
    }
   ],
   "source": [
    "#BASIC LIST STUFF\n",
    "#!/usr/bin/python\n",
    "\n",
    "list1 = ['physics', 'chemistry', 1997, 2000];\n",
    "list2 = [1, 2, 3, 4, 5, 6, 7 ];\n",
    "print(\"list1[0]: \", list1[0])\n",
    "print(\"list2[1:5]: \", list2[1:5])"
   ]
  },
  {
   "cell_type": "code",
   "execution_count": 8,
   "metadata": {},
   "outputs": [
    {
     "name": "stdout",
     "output_type": "stream",
     "text": [
      "Value available at index 2 : \n",
      "1997\n",
      "New value available at index 2 : \n",
      "2001\n"
     ]
    }
   ],
   "source": [
    "#UPDATING LISTS\n",
    "list = ['physics', 'chemistry', 1997, 2000];\n",
    "print(\"Value available at index 2 : \")\n",
    "print(list[2])\n",
    "list[2] = 2001;\n",
    "print(\"New value available at index 2 : \")\n",
    "print(list[2])"
   ]
  },
  {
   "cell_type": "code",
   "execution_count": 11,
   "metadata": {},
   "outputs": [
    {
     "name": "stdout",
     "output_type": "stream",
     "text": [
      "tup1[0]:  physics\n",
      "tup2[1:5]:  (2, 3, 4, 5)\n"
     ]
    }
   ],
   "source": [
    "#accessing tuples#\n",
    "#!/usr/bin/python\n",
    "\n",
    "tup1 = ('physics', 'chemistry', 1997, 2000);\n",
    "tup2 = (1, 2, 3, 4, 5, 6, 7 )\n",
    "print(\"tup1[0]: \", tup1[0])\n",
    "print(\"tup2[1:5]: \", tup2[1:5])"
   ]
  },
  {
   "cell_type": "code",
   "execution_count": 12,
   "metadata": {},
   "outputs": [
    {
     "name": "stdout",
     "output_type": "stream",
     "text": [
      "I'm first call to user defined function!\n",
      "Again second call to the same function\n"
     ]
    }
   ],
   "source": [
    "#function example\n",
    "def functionname( parameters ):\n",
    "   \"function_docstring\"\n",
    "   function_suite\n",
    "   return [expression]\n",
    "\n",
    "\n",
    "# Function definition is here\n",
    "def printme( str ):\n",
    "   \"This prints a passed string into this function\"\n",
    "   print(str)\n",
    "   return;\n",
    "\n",
    "# Now you can call printme function\n",
    "printme(\"I'm first call to user defined function!\")\n",
    "printme(\"Again second call to the same function\")\n",
    "\n"
   ]
  },
  {
   "cell_type": "code",
   "execution_count": 13,
   "metadata": {},
   "outputs": [
    {
     "name": "stdout",
     "output_type": "stream",
     "text": [
      "[1, 2, 'fizz', 4, 'buzz', 'fizz', 7, 8, 'fizz', 'buzz', 11, 'fizz', 13, 14, 'fizzbuzz', 16, 17, 'fizz', 19, 'buzz', 'fizz', 22, 23, 'fizz', 'buzz', 26, 'fizz', 28, 29, 'fizzbuzz', 31, 32, 'fizz', 34, 'buzz', 'fizz', 37, 38, 'fizz', 'buzz', 41, 'fizz', 43, 44, 'fizzbuzz', 46, 47, 'fizz', 49, 'buzz', 'fizz', 52, 53, 'fizz', 'buzz', 56, 'fizz', 58, 59, 'fizzbuzz', 61, 62, 'fizz', 64, 'buzz', 'fizz', 67, 68, 'fizz', 'buzz', 71, 'fizz', 73, 74, 'fizzbuzz', 76, 77, 'fizz', 79, 'buzz', 'fizz', 82, 83, 'fizz', 'buzz', 86, 'fizz', 88, 89, 'fizzbuzz', 91, 92, 'fizz', 94, 'buzz', 'fizz', 97, 98, 'fizz']\n"
     ]
    }
   ],
   "source": [
    "import pandas as pd\n",
    "import numpy as np\n",
    "from pprint import pprint\n",
    "\n",
    "\n",
    "numbers100 = []\n",
    "for x in range(1,100):\n",
    "    if x <= 100:\n",
    "        numbers100.append(x)\n",
    "\n",
    "numbersmod3 =[]\n",
    "for x in numbers100:\n",
    "    if x%3==0:\n",
    "        numbersmod3.append(x)\n",
    "\n",
    "numbersmod5 = []\n",
    "for x in numbers100:\n",
    "    if x%5==0:\n",
    "        numbersmod5.append(x)\n",
    "\n",
    "numbersgcd35 = []\n",
    "for x in numbers100:\n",
    "    if x%5==0 and x%3==0:\n",
    "        numbersgcd35.append(x)\n",
    "\n",
    "fizzbuzz = []\n",
    "for x in range(1,100):\n",
    "    if x <= 100:\n",
    "        fizzbuzz.append(x)\n",
    "for (i, item) in enumerate(fizzbuzz):\n",
    "    if item in numbersmod3:\n",
    "        fizzbuzz[i] = 'fizz'\n",
    "    if item in numbersmod5:\n",
    "        fizzbuzz[i] = 'buzz'\n",
    "    if item in numbersgcd35:\n",
    "        fizzbuzz[i] = 'fizzbuzz'\n",
    "print(fizzbuzz) \n",
    "           \n",
    "#df = pd.DataFrame([numbers100, numbersmod3, numbersmod5, numbersgcd35]);\n",
    "#pprint(df)\n",
    "\n",
    "#how to map(lambda x:x if x!= 4 else 'sss',a)\n"
   ]
  },
  {
   "cell_type": "code",
   "execution_count": 14,
   "metadata": {},
   "outputs": [
    {
     "name": "stdout",
     "output_type": "stream",
     "text": [
      "0   fizz buzz\n",
      "1    \n",
      "2    \n",
      "3   fizz \n",
      "4    \n",
      "5    buzz\n",
      "6   fizz \n",
      "7    \n",
      "8    \n",
      "9   fizz \n",
      "10    buzz\n",
      "11    \n",
      "12   fizz \n",
      "13    \n",
      "14    \n",
      "15   fizz buzz\n",
      "16    \n",
      "17    \n",
      "18   fizz \n",
      "19    \n",
      "20    buzz\n",
      "21   fizz \n",
      "22    \n",
      "23    \n",
      "24   fizz \n",
      "25    buzz\n",
      "26    \n",
      "27   fizz \n",
      "28    \n",
      "29    \n",
      "30   fizz buzz\n",
      "31    \n",
      "32    \n",
      "33   fizz \n",
      "34    \n",
      "35    buzz\n",
      "36   fizz \n",
      "37    \n",
      "38    \n",
      "39   fizz \n",
      "40    buzz\n",
      "41    \n",
      "42   fizz \n",
      "43    \n",
      "44    \n",
      "45   fizz buzz\n",
      "46    \n",
      "47    \n",
      "48   fizz \n",
      "49    \n",
      "50    buzz\n",
      "51   fizz \n",
      "52    \n",
      "53    \n",
      "54   fizz \n",
      "55    buzz\n",
      "56    \n",
      "57   fizz \n",
      "58    \n",
      "59    \n",
      "60   fizz buzz\n",
      "61    \n",
      "62    \n",
      "63   fizz \n",
      "64    \n",
      "65    buzz\n",
      "66   fizz \n",
      "67    \n",
      "68    \n",
      "69   fizz \n",
      "70    buzz\n",
      "71    \n",
      "72   fizz \n",
      "73    \n",
      "74    \n",
      "75   fizz buzz\n",
      "76    \n",
      "77    \n",
      "78   fizz \n",
      "79    \n",
      "80    buzz\n",
      "81   fizz \n",
      "82    \n",
      "83    \n",
      "84   fizz \n",
      "85    buzz\n",
      "86    \n",
      "87   fizz \n",
      "88    \n",
      "89    \n",
      "90   fizz buzz\n",
      "91    \n",
      "92    \n",
      "93   fizz \n",
      "94    \n",
      "95    buzz\n",
      "96   fizz \n",
      "97    \n",
      "98    \n",
      "99   fizz \n",
      "100    buzz\n"
     ]
    }
   ],
   "source": [
    "count = 0\n",
    "while(count <=100):\n",
    "  fizz = 'fizz' if count % 3 == 0 else ''\n",
    "  buzz = 'buzz' if count % 5 == 0 else ''\n",
    "  print(count,' ',fizz,buzz)\n",
    "  count = count + 1"
   ]
  },
  {
   "cell_type": "code",
   "execution_count": 15,
   "metadata": {},
   "outputs": [
    {
     "name": "stdout",
     "output_type": "stream",
     "text": [
      "6\n"
     ]
    }
   ],
   "source": [
    "x=6\n",
    "if x%6==0:\n",
    "    print(x)"
   ]
  },
  {
   "cell_type": "code",
   "execution_count": null,
   "metadata": {},
   "outputs": [],
   "source": []
  },
  {
   "cell_type": "code",
   "execution_count": null,
   "metadata": {},
   "outputs": [],
   "source": []
  },
  {
   "cell_type": "code",
   "execution_count": null,
   "metadata": {
    "collapsed": true
   },
   "outputs": [],
   "source": []
  }
 ],
 "metadata": {
  "kernelspec": {
   "display_name": "Python 3",
   "language": "python",
   "name": "python3"
  },
  "language_info": {
   "codemirror_mode": {
    "name": "ipython",
    "version": 3
   },
   "file_extension": ".py",
   "mimetype": "text/x-python",
   "name": "python",
   "nbconvert_exporter": "python",
   "pygments_lexer": "ipython3",
   "version": "3.6.5"
  }
 },
 "nbformat": 4,
 "nbformat_minor": 2
}
